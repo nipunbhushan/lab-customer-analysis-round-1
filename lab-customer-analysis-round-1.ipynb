{
 "cells": [
  {
   "cell_type": "code",
   "execution_count": 1,
   "id": "3e3a8695",
   "metadata": {},
   "outputs": [],
   "source": [
    "# 1. Read the three files into python as dataframes\n",
    "import pandas as pd\n",
    "file1=pd.read_csv(\"files_for_lab/csv_files/file1.csv\")\n",
    "file2=pd.read_csv(\"files_for_lab/csv_files/file2.csv\")\n",
    "file3=pd.read_csv(\"files_for_lab/csv_files/file3.csv\")"
   ]
  },
  {
   "cell_type": "code",
   "execution_count": 2,
   "id": "2b14876e",
   "metadata": {},
   "outputs": [
    {
     "name": "stdout",
     "output_type": "stream",
     "text": [
      "(4008, 11)\n",
      "(996, 11)\n",
      "(7070, 11)\n"
     ]
    }
   ],
   "source": [
    "# 2. Show the DataFrame's shape.\n",
    "print(file1.shape)\n",
    "print(file2.shape)\n",
    "print(file3.shape)"
   ]
  },
  {
   "cell_type": "code",
   "execution_count": 3,
   "id": "8ca68ea0",
   "metadata": {},
   "outputs": [],
   "source": [
    "# 3. Standardize header names.\n",
    "\n",
    "# renaming columns\n",
    "file1 = file1.rename(columns={'Customer':'Customer ID','ST':'State','GENDER':'Gender'})\n",
    "file2 = file2.rename(columns={'Customer':'Customer ID','ST':'State','GENDER':'Gender'})\n",
    "file3 = file3.rename(columns={'Customer':'Customer ID'})\n",
    "\n",
    "# Put all columns in lowercase\n",
    "file1.columns = [col.lower() for col in file1.columns]\n",
    "file2.columns = [col.lower() for col in file2.columns]\n",
    "file3.columns = [col.lower() for col in file3.columns]"
   ]
  },
  {
   "cell_type": "code",
   "execution_count": 4,
   "id": "b943f307",
   "metadata": {},
   "outputs": [
    {
     "data": {
      "text/plain": [
       "True"
      ]
     },
     "execution_count": 4,
     "metadata": {},
     "output_type": "execute_result"
    }
   ],
   "source": [
    "# 4. Rearrange the columns in the dataframe as needed\n",
    "\n",
    "# Before reordering - Check if all columns have the same name and in the same order (If output is TRUE, everything is in place!)\n",
    "\n",
    "file1_cols_sorted=file1.columns.sort_values()\n",
    "file2_cols_sorted=file2.columns.sort_values()\n",
    "file3_cols_sorted=file3.columns.sort_values()\n",
    "file1_cols_sorted.all()==file2_cols_sorted.all() and file2_cols_sorted.all()==file3_cols_sorted.all() and file1_cols_sorted.all()==file3_cols_sorted.all()"
   ]
  },
  {
   "cell_type": "code",
   "execution_count": 5,
   "id": "5de41180",
   "metadata": {},
   "outputs": [],
   "source": [
    "# 4.(contd.) Rearranging columns to match file1\n",
    "file2 = file2[file1.columns]\n",
    "file3 = file3[file1.columns]"
   ]
  },
  {
   "cell_type": "code",
   "execution_count": 6,
   "id": "b6ab4f5f",
   "metadata": {},
   "outputs": [],
   "source": [
    "# 5. Concatenate the three dataframes\n",
    "\n",
    "# First, we drop rows in file1 containing NAs in all the columns\n",
    "file1.dropna(how='all',inplace=True)"
   ]
  },
  {
   "cell_type": "code",
   "execution_count": 7,
   "id": "13d24c91",
   "metadata": {},
   "outputs": [
    {
     "data": {
      "text/html": [
       "<div>\n",
       "<style scoped>\n",
       "    .dataframe tbody tr th:only-of-type {\n",
       "        vertical-align: middle;\n",
       "    }\n",
       "\n",
       "    .dataframe tbody tr th {\n",
       "        vertical-align: top;\n",
       "    }\n",
       "\n",
       "    .dataframe thead th {\n",
       "        text-align: right;\n",
       "    }\n",
       "</style>\n",
       "<table border=\"1\" class=\"dataframe\">\n",
       "  <thead>\n",
       "    <tr style=\"text-align: right;\">\n",
       "      <th></th>\n",
       "      <th>file1</th>\n",
       "      <th>file2</th>\n",
       "      <th>file3</th>\n",
       "    </tr>\n",
       "  </thead>\n",
       "  <tbody>\n",
       "    <tr>\n",
       "      <th>customer id</th>\n",
       "      <td>object</td>\n",
       "      <td>object</td>\n",
       "      <td>object</td>\n",
       "    </tr>\n",
       "    <tr>\n",
       "      <th>state</th>\n",
       "      <td>object</td>\n",
       "      <td>object</td>\n",
       "      <td>object</td>\n",
       "    </tr>\n",
       "    <tr>\n",
       "      <th>gender</th>\n",
       "      <td>object</td>\n",
       "      <td>object</td>\n",
       "      <td>object</td>\n",
       "    </tr>\n",
       "    <tr>\n",
       "      <th>education</th>\n",
       "      <td>object</td>\n",
       "      <td>object</td>\n",
       "      <td>object</td>\n",
       "    </tr>\n",
       "    <tr>\n",
       "      <th>customer lifetime value</th>\n",
       "      <td>object</td>\n",
       "      <td>object</td>\n",
       "      <td>float64</td>\n",
       "    </tr>\n",
       "    <tr>\n",
       "      <th>income</th>\n",
       "      <td>float64</td>\n",
       "      <td>int64</td>\n",
       "      <td>int64</td>\n",
       "    </tr>\n",
       "    <tr>\n",
       "      <th>monthly premium auto</th>\n",
       "      <td>float64</td>\n",
       "      <td>int64</td>\n",
       "      <td>int64</td>\n",
       "    </tr>\n",
       "    <tr>\n",
       "      <th>number of open complaints</th>\n",
       "      <td>object</td>\n",
       "      <td>object</td>\n",
       "      <td>int64</td>\n",
       "    </tr>\n",
       "    <tr>\n",
       "      <th>policy type</th>\n",
       "      <td>object</td>\n",
       "      <td>object</td>\n",
       "      <td>object</td>\n",
       "    </tr>\n",
       "    <tr>\n",
       "      <th>vehicle class</th>\n",
       "      <td>object</td>\n",
       "      <td>object</td>\n",
       "      <td>object</td>\n",
       "    </tr>\n",
       "    <tr>\n",
       "      <th>total claim amount</th>\n",
       "      <td>float64</td>\n",
       "      <td>float64</td>\n",
       "      <td>float64</td>\n",
       "    </tr>\n",
       "  </tbody>\n",
       "</table>\n",
       "</div>"
      ],
      "text/plain": [
       "                             file1    file2    file3\n",
       "customer id                 object   object   object\n",
       "state                       object   object   object\n",
       "gender                      object   object   object\n",
       "education                   object   object   object\n",
       "customer lifetime value     object   object  float64\n",
       "income                     float64    int64    int64\n",
       "monthly premium auto       float64    int64    int64\n",
       "number of open complaints   object   object    int64\n",
       "policy type                 object   object   object\n",
       "vehicle class               object   object   object\n",
       "total claim amount         float64  float64  float64"
      ]
     },
     "execution_count": 7,
     "metadata": {},
     "output_type": "execute_result"
    }
   ],
   "source": [
    "# 5. (contd.) Now we check the datatypes of all the columns in file1, file2, file3 for safe concatenation\n",
    "\n",
    "pd.concat([pd.DataFrame(file1.dtypes,columns=['file1']),pd.DataFrame(file2.dtypes,columns=['file2']),pd.DataFrame(file3.dtypes,columns=['file3'])],axis=1)"
   ]
  },
  {
   "cell_type": "code",
   "execution_count": 8,
   "id": "280295af",
   "metadata": {},
   "outputs": [
    {
     "data": {
      "text/plain": [
       "1/0/00    830\n",
       "1/1/00    138\n",
       "1/2/00     50\n",
       "1/3/00     34\n",
       "1/4/00     13\n",
       "1/5/00      6\n",
       "Name: number of open complaints, dtype: int64"
      ]
     },
     "execution_count": 8,
     "metadata": {},
     "output_type": "execute_result"
    }
   ],
   "source": [
    "# 5.a.******OPTIONAL CELLS (The below is not coded as per instructions in lab, but done just for self curiousity)******\n",
    "\n",
    "# (To save time, you can skip directly to 5.b.)\n",
    "\n",
    "# ** I understand the column 'Number of Open Complaints' needs to be deleted later, \n",
    "# but I found it interesting to convert it to a meaningful form and concatenate it for later analysis.\n",
    "\n",
    "# Analyse the different values in column 'Number of Open Complaints'\n",
    "file1['number of open complaints'].value_counts(dropna=False)"
   ]
  },
  {
   "cell_type": "code",
   "execution_count": 9,
   "id": "c7eebc90",
   "metadata": {
    "scrolled": true
   },
   "outputs": [],
   "source": [
    "# Replace number of complaints to standard integer format\n",
    "file1['number of open complaints'] = file1['number of open complaints'].replace(['1/0/00','1/1/00','1/2/00','1/3/00','1/4/00','1/5/00'],['0','1','2','3','4','5'])"
   ]
  },
  {
   "cell_type": "code",
   "execution_count": 10,
   "id": "b4937919",
   "metadata": {},
   "outputs": [
    {
     "data": {
      "text/plain": [
       "0    830\n",
       "1    138\n",
       "2     50\n",
       "3     34\n",
       "4     13\n",
       "5      6\n",
       "Name: number of open complaints, dtype: int64"
      ]
     },
     "execution_count": 10,
     "metadata": {},
     "output_type": "execute_result"
    }
   ],
   "source": [
    "# Observe the changes made above\n",
    "file1['number of open complaints'].value_counts(dropna=False)"
   ]
  },
  {
   "cell_type": "code",
   "execution_count": 11,
   "id": "5f30bef1",
   "metadata": {},
   "outputs": [],
   "source": [
    "# Replacing NAs with 0\n",
    "file1['number of open complaints'] = file1['number of open complaints'].fillna('0')"
   ]
  },
  {
   "cell_type": "code",
   "execution_count": 12,
   "id": "5c711166",
   "metadata": {},
   "outputs": [
    {
     "data": {
      "text/plain": [
       "0    830\n",
       "1    138\n",
       "2     50\n",
       "3     34\n",
       "4     13\n",
       "5      6\n",
       "Name: number of open complaints, dtype: int64"
      ]
     },
     "execution_count": 12,
     "metadata": {},
     "output_type": "execute_result"
    }
   ],
   "source": [
    "# Observe the changes made above after replacing NAs with 0\n",
    "file1['number of open complaints'].value_counts(dropna=False)"
   ]
  },
  {
   "cell_type": "code",
   "execution_count": 13,
   "id": "29eec21b",
   "metadata": {},
   "outputs": [
    {
     "data": {
      "text/plain": [
       "0    796\n",
       "1    109\n",
       "2     43\n",
       "3     26\n",
       "4     16\n",
       "5      6\n",
       "Name: number of open complaints, dtype: int64"
      ]
     },
     "execution_count": 13,
     "metadata": {},
     "output_type": "execute_result"
    }
   ],
   "source": [
    "# Do the same for 'Number of Open Complaints' column in file2\n",
    "\n",
    "# Replace number of complaints to standard integer format\n",
    "file2['number of open complaints'] = file2['number of open complaints'].replace(['1/0/00','1/1/00','1/2/00','1/3/00','1/4/00','1/5/00'],['0','1','2','3','4','5'])\n",
    "file2['number of open complaints'].value_counts(dropna=False)"
   ]
  },
  {
   "cell_type": "code",
   "execution_count": 14,
   "id": "a88a7a36",
   "metadata": {},
   "outputs": [
    {
     "data": {
      "text/plain": [
       "0    5629\n",
       "1     765\n",
       "2     283\n",
       "3     230\n",
       "4     119\n",
       "5      44\n",
       "Name: number of open complaints, dtype: int64"
      ]
     },
     "execution_count": 14,
     "metadata": {},
     "output_type": "execute_result"
    }
   ],
   "source": [
    "# Check the values in column 'Number of Open Complaints' for file3\n",
    "file3['number of open complaints'].value_counts(dropna=False)"
   ]
  },
  {
   "cell_type": "code",
   "execution_count": 15,
   "id": "ea449651",
   "metadata": {},
   "outputs": [],
   "source": [
    "file1['number of open complaints'] =  pd.to_numeric(file1['number of open complaints'], errors='coerce')\n",
    "file2['number of open complaints'] =  pd.to_numeric(file2['number of open complaints'], errors='coerce')"
   ]
  },
  {
   "cell_type": "code",
   "execution_count": 16,
   "id": "c6258207",
   "metadata": {},
   "outputs": [],
   "source": [
    "# 5.b. / 9.2 Convert Customer Lifetime Value column type in file1 and file2 to be compatible to file3\n",
    "\n",
    "# Replace % from customer lifetime value column and convert it to numeric type\n",
    "file1['customer lifetime value'] = file1['customer lifetime value'].str.replace('%','',regex=True)\n",
    "file1['customer lifetime value'] =  pd.to_numeric(file1['customer lifetime value'], errors='coerce')\n",
    "file1['customer lifetime value']=file1['customer lifetime value'].round(2)\n",
    "\n",
    "# Replace % from customer lifetime value column and convert it to numeric type\n",
    "file2['customer lifetime value'] = file2['customer lifetime value'].str.replace('%','',regex=True)\n",
    "file2['customer lifetime value'] =  pd.to_numeric(file2['customer lifetime value'], errors='coerce')\n",
    "file2['customer lifetime value']=file2['customer lifetime value'].round(2)\n",
    "\n",
    "file3['customer lifetime value']=file3['customer lifetime value'].round(2)"
   ]
  },
  {
   "cell_type": "code",
   "execution_count": 17,
   "id": "01ed8180",
   "metadata": {},
   "outputs": [
    {
     "data": {
      "text/html": [
       "<div>\n",
       "<style scoped>\n",
       "    .dataframe tbody tr th:only-of-type {\n",
       "        vertical-align: middle;\n",
       "    }\n",
       "\n",
       "    .dataframe tbody tr th {\n",
       "        vertical-align: top;\n",
       "    }\n",
       "\n",
       "    .dataframe thead th {\n",
       "        text-align: right;\n",
       "    }\n",
       "</style>\n",
       "<table border=\"1\" class=\"dataframe\">\n",
       "  <thead>\n",
       "    <tr style=\"text-align: right;\">\n",
       "      <th></th>\n",
       "      <th>file1</th>\n",
       "      <th>file2</th>\n",
       "      <th>file3</th>\n",
       "    </tr>\n",
       "  </thead>\n",
       "  <tbody>\n",
       "    <tr>\n",
       "      <th>customer id</th>\n",
       "      <td>object</td>\n",
       "      <td>object</td>\n",
       "      <td>object</td>\n",
       "    </tr>\n",
       "    <tr>\n",
       "      <th>state</th>\n",
       "      <td>object</td>\n",
       "      <td>object</td>\n",
       "      <td>object</td>\n",
       "    </tr>\n",
       "    <tr>\n",
       "      <th>gender</th>\n",
       "      <td>object</td>\n",
       "      <td>object</td>\n",
       "      <td>object</td>\n",
       "    </tr>\n",
       "    <tr>\n",
       "      <th>education</th>\n",
       "      <td>object</td>\n",
       "      <td>object</td>\n",
       "      <td>object</td>\n",
       "    </tr>\n",
       "    <tr>\n",
       "      <th>customer lifetime value</th>\n",
       "      <td>float64</td>\n",
       "      <td>float64</td>\n",
       "      <td>float64</td>\n",
       "    </tr>\n",
       "    <tr>\n",
       "      <th>income</th>\n",
       "      <td>float64</td>\n",
       "      <td>int64</td>\n",
       "      <td>int64</td>\n",
       "    </tr>\n",
       "    <tr>\n",
       "      <th>monthly premium auto</th>\n",
       "      <td>float64</td>\n",
       "      <td>int64</td>\n",
       "      <td>int64</td>\n",
       "    </tr>\n",
       "    <tr>\n",
       "      <th>number of open complaints</th>\n",
       "      <td>int64</td>\n",
       "      <td>int64</td>\n",
       "      <td>int64</td>\n",
       "    </tr>\n",
       "    <tr>\n",
       "      <th>policy type</th>\n",
       "      <td>object</td>\n",
       "      <td>object</td>\n",
       "      <td>object</td>\n",
       "    </tr>\n",
       "    <tr>\n",
       "      <th>vehicle class</th>\n",
       "      <td>object</td>\n",
       "      <td>object</td>\n",
       "      <td>object</td>\n",
       "    </tr>\n",
       "    <tr>\n",
       "      <th>total claim amount</th>\n",
       "      <td>float64</td>\n",
       "      <td>float64</td>\n",
       "      <td>float64</td>\n",
       "    </tr>\n",
       "  </tbody>\n",
       "</table>\n",
       "</div>"
      ],
      "text/plain": [
       "                             file1    file2    file3\n",
       "customer id                 object   object   object\n",
       "state                       object   object   object\n",
       "gender                      object   object   object\n",
       "education                   object   object   object\n",
       "customer lifetime value    float64  float64  float64\n",
       "income                     float64    int64    int64\n",
       "monthly premium auto       float64    int64    int64\n",
       "number of open complaints    int64    int64    int64\n",
       "policy type                 object   object   object\n",
       "vehicle class               object   object   object\n",
       "total claim amount         float64  float64  float64"
      ]
     },
     "execution_count": 17,
     "metadata": {},
     "output_type": "execute_result"
    }
   ],
   "source": [
    "# 5.c.Now we check the datatypes of all the columns in file1, file2, file3 for safe concatenation\n",
    "\n",
    "pd.concat([pd.DataFrame(file1.dtypes,columns=['file1']),pd.DataFrame(file2.dtypes,columns=['file2']),pd.DataFrame(file3.dtypes,columns=['file3'])],axis=1)"
   ]
  },
  {
   "cell_type": "code",
   "execution_count": 18,
   "id": "1ac055c1",
   "metadata": {},
   "outputs": [],
   "source": [
    "# 5.d. Now, we finally concatenate the dataframes file1, file2, file3\n",
    "\n",
    "file=pd.concat([file1,file2,file3],axis=0)"
   ]
  },
  {
   "cell_type": "code",
   "execution_count": 19,
   "id": "264f0d4b",
   "metadata": {
    "scrolled": true
   },
   "outputs": [
    {
     "data": {
      "text/html": [
       "<div>\n",
       "<style scoped>\n",
       "    .dataframe tbody tr th:only-of-type {\n",
       "        vertical-align: middle;\n",
       "    }\n",
       "\n",
       "    .dataframe tbody tr th {\n",
       "        vertical-align: top;\n",
       "    }\n",
       "\n",
       "    .dataframe thead th {\n",
       "        text-align: right;\n",
       "    }\n",
       "</style>\n",
       "<table border=\"1\" class=\"dataframe\">\n",
       "  <thead>\n",
       "    <tr style=\"text-align: right;\">\n",
       "      <th></th>\n",
       "      <th>file1</th>\n",
       "      <th>file2</th>\n",
       "      <th>file3</th>\n",
       "    </tr>\n",
       "  </thead>\n",
       "  <tbody>\n",
       "    <tr>\n",
       "      <th>customer id</th>\n",
       "      <td>object</td>\n",
       "      <td>object</td>\n",
       "      <td>object</td>\n",
       "    </tr>\n",
       "    <tr>\n",
       "      <th>state</th>\n",
       "      <td>object</td>\n",
       "      <td>object</td>\n",
       "      <td>object</td>\n",
       "    </tr>\n",
       "    <tr>\n",
       "      <th>gender</th>\n",
       "      <td>object</td>\n",
       "      <td>object</td>\n",
       "      <td>object</td>\n",
       "    </tr>\n",
       "    <tr>\n",
       "      <th>education</th>\n",
       "      <td>object</td>\n",
       "      <td>object</td>\n",
       "      <td>object</td>\n",
       "    </tr>\n",
       "    <tr>\n",
       "      <th>customer lifetime value</th>\n",
       "      <td>float64</td>\n",
       "      <td>float64</td>\n",
       "      <td>float64</td>\n",
       "    </tr>\n",
       "    <tr>\n",
       "      <th>income</th>\n",
       "      <td>float64</td>\n",
       "      <td>int64</td>\n",
       "      <td>int64</td>\n",
       "    </tr>\n",
       "    <tr>\n",
       "      <th>monthly premium auto</th>\n",
       "      <td>float64</td>\n",
       "      <td>int64</td>\n",
       "      <td>int64</td>\n",
       "    </tr>\n",
       "    <tr>\n",
       "      <th>number of open complaints</th>\n",
       "      <td>int64</td>\n",
       "      <td>int64</td>\n",
       "      <td>int64</td>\n",
       "    </tr>\n",
       "    <tr>\n",
       "      <th>policy type</th>\n",
       "      <td>object</td>\n",
       "      <td>object</td>\n",
       "      <td>object</td>\n",
       "    </tr>\n",
       "    <tr>\n",
       "      <th>vehicle class</th>\n",
       "      <td>object</td>\n",
       "      <td>object</td>\n",
       "      <td>object</td>\n",
       "    </tr>\n",
       "    <tr>\n",
       "      <th>total claim amount</th>\n",
       "      <td>float64</td>\n",
       "      <td>float64</td>\n",
       "      <td>float64</td>\n",
       "    </tr>\n",
       "  </tbody>\n",
       "</table>\n",
       "</div>"
      ],
      "text/plain": [
       "                             file1    file2    file3\n",
       "customer id                 object   object   object\n",
       "state                       object   object   object\n",
       "gender                      object   object   object\n",
       "education                   object   object   object\n",
       "customer lifetime value    float64  float64  float64\n",
       "income                     float64    int64    int64\n",
       "monthly premium auto       float64    int64    int64\n",
       "number of open complaints    int64    int64    int64\n",
       "policy type                 object   object   object\n",
       "vehicle class               object   object   object\n",
       "total claim amount         float64  float64  float64"
      ]
     },
     "execution_count": 19,
     "metadata": {},
     "output_type": "execute_result"
    }
   ],
   "source": [
    "# To answer the questions 6 and 7:\n",
    "\n",
    "pd.concat([pd.DataFrame(file1.dtypes,columns=['file1']),pd.DataFrame(file2.dtypes,columns=['file2']),pd.DataFrame(file3.dtypes,columns=['file3'])],axis=1)"
   ]
  },
  {
   "cell_type": "code",
   "execution_count": 20,
   "id": "180f4c64",
   "metadata": {},
   "outputs": [],
   "source": [
    "# 6. Which columns are numerical?\n",
    "\n",
    "# customer lifetime value, income, monthly premium auto, number of open complaints, total claim amount"
   ]
  },
  {
   "cell_type": "code",
   "execution_count": 21,
   "id": "1846b668",
   "metadata": {},
   "outputs": [],
   "source": [
    "# 7. Which columns are categorical?\n",
    "\n",
    "# state, gender, education, policy type, vehicle class"
   ]
  },
  {
   "cell_type": "code",
   "execution_count": 22,
   "id": "2c243c80",
   "metadata": {},
   "outputs": [],
   "source": [
    "# 8. Understand the meaning of all columns:\n",
    "\n",
    "# customer id - uniquely identifies customer\n",
    "# state - \n",
    "# gender\n",
    "# education\n",
    "# customer lifetime value - measure of the total income a business can expect to bring in from a typical customer \n",
    "# for as long as that person or account remains a client.\n",
    "# income\n",
    "# monthly premium auto\n",
    "# number of open complaints\n",
    "# policy type\n",
    "# vehicle class\n",
    "# total claim amount\n",
    "\n",
    "# ** all other cols are understood by the name\n"
   ]
  },
  {
   "cell_type": "code",
   "execution_count": 23,
   "id": "d6bf20d0",
   "metadata": {},
   "outputs": [],
   "source": [
    "# 9.1. Delete the column education and the number of open complaints from the dataframe.\n",
    "\n",
    "file = file.drop(['education','number of open complaints'], axis=1)"
   ]
  },
  {
   "cell_type": "code",
   "execution_count": 24,
   "id": "dc1d20b9",
   "metadata": {},
   "outputs": [],
   "source": [
    "# 9.2 Correct the values in the column customer lifetime value. They are given as a percent, so multiply them by 100 and change dtype to numerical type.\n",
    "\n",
    "# Done already in 5.b."
   ]
  },
  {
   "cell_type": "code",
   "execution_count": 25,
   "id": "90ac8197",
   "metadata": {},
   "outputs": [],
   "source": [
    "# 9.3. Check for duplicate rows in the data and remove if any.\n",
    "\n",
    "file = file.drop_duplicates()\n",
    "file = file.reset_index(drop=True)"
   ]
  },
  {
   "cell_type": "code",
   "execution_count": 26,
   "id": "28f2f37d",
   "metadata": {},
   "outputs": [
    {
     "data": {
      "text/html": [
       "<div>\n",
       "<style scoped>\n",
       "    .dataframe tbody tr th:only-of-type {\n",
       "        vertical-align: middle;\n",
       "    }\n",
       "\n",
       "    .dataframe tbody tr th {\n",
       "        vertical-align: top;\n",
       "    }\n",
       "\n",
       "    .dataframe thead th {\n",
       "        text-align: right;\n",
       "    }\n",
       "</style>\n",
       "<table border=\"1\" class=\"dataframe\">\n",
       "  <thead>\n",
       "    <tr style=\"text-align: right;\">\n",
       "      <th></th>\n",
       "      <th>customer id</th>\n",
       "      <th>state</th>\n",
       "      <th>gender</th>\n",
       "      <th>customer lifetime value</th>\n",
       "      <th>income</th>\n",
       "      <th>monthly premium auto</th>\n",
       "      <th>policy type</th>\n",
       "      <th>vehicle class</th>\n",
       "      <th>total claim amount</th>\n",
       "    </tr>\n",
       "  </thead>\n",
       "  <tbody>\n",
       "    <tr>\n",
       "      <th>0</th>\n",
       "      <td>RB50392</td>\n",
       "      <td>Washington</td>\n",
       "      <td>NaN</td>\n",
       "      <td>NaN</td>\n",
       "      <td>0.0</td>\n",
       "      <td>1000.0</td>\n",
       "      <td>Personal Auto</td>\n",
       "      <td>Four-Door Car</td>\n",
       "      <td>2.704934</td>\n",
       "    </tr>\n",
       "    <tr>\n",
       "      <th>1</th>\n",
       "      <td>QZ44356</td>\n",
       "      <td>Arizona</td>\n",
       "      <td>F</td>\n",
       "      <td>697953.59</td>\n",
       "      <td>0.0</td>\n",
       "      <td>94.0</td>\n",
       "      <td>Personal Auto</td>\n",
       "      <td>Four-Door Car</td>\n",
       "      <td>1131.464935</td>\n",
       "    </tr>\n",
       "    <tr>\n",
       "      <th>3</th>\n",
       "      <td>WW63253</td>\n",
       "      <td>California</td>\n",
       "      <td>M</td>\n",
       "      <td>764586.18</td>\n",
       "      <td>0.0</td>\n",
       "      <td>106.0</td>\n",
       "      <td>Corporate Auto</td>\n",
       "      <td>SUV</td>\n",
       "      <td>529.881344</td>\n",
       "    </tr>\n",
       "    <tr>\n",
       "      <th>7</th>\n",
       "      <td>CF85061</td>\n",
       "      <td>Arizona</td>\n",
       "      <td>M</td>\n",
       "      <td>721610.03</td>\n",
       "      <td>0.0</td>\n",
       "      <td>101.0</td>\n",
       "      <td>Corporate Auto</td>\n",
       "      <td>Four-Door Car</td>\n",
       "      <td>363.029680</td>\n",
       "    </tr>\n",
       "    <tr>\n",
       "      <th>10</th>\n",
       "      <td>SX51350</td>\n",
       "      <td>California</td>\n",
       "      <td>M</td>\n",
       "      <td>473899.20</td>\n",
       "      <td>0.0</td>\n",
       "      <td>67.0</td>\n",
       "      <td>Personal Auto</td>\n",
       "      <td>Four-Door Car</td>\n",
       "      <td>482.400000</td>\n",
       "    </tr>\n",
       "    <tr>\n",
       "      <th>...</th>\n",
       "      <td>...</td>\n",
       "      <td>...</td>\n",
       "      <td>...</td>\n",
       "      <td>...</td>\n",
       "      <td>...</td>\n",
       "      <td>...</td>\n",
       "      <td>...</td>\n",
       "      <td>...</td>\n",
       "      <td>...</td>\n",
       "    </tr>\n",
       "    <tr>\n",
       "      <th>9123</th>\n",
       "      <td>WZ45103</td>\n",
       "      <td>California</td>\n",
       "      <td>F</td>\n",
       "      <td>5678.05</td>\n",
       "      <td>0.0</td>\n",
       "      <td>76.0</td>\n",
       "      <td>Personal Auto</td>\n",
       "      <td>Four-Door Car</td>\n",
       "      <td>364.800000</td>\n",
       "    </tr>\n",
       "    <tr>\n",
       "      <th>9125</th>\n",
       "      <td>RX91025</td>\n",
       "      <td>California</td>\n",
       "      <td>M</td>\n",
       "      <td>19872.26</td>\n",
       "      <td>0.0</td>\n",
       "      <td>185.0</td>\n",
       "      <td>Personal Auto</td>\n",
       "      <td>SUV</td>\n",
       "      <td>1950.725547</td>\n",
       "    </tr>\n",
       "    <tr>\n",
       "      <th>9126</th>\n",
       "      <td>AC13887</td>\n",
       "      <td>California</td>\n",
       "      <td>M</td>\n",
       "      <td>4629.00</td>\n",
       "      <td>0.0</td>\n",
       "      <td>67.0</td>\n",
       "      <td>Corporate Auto</td>\n",
       "      <td>Two-Door Car</td>\n",
       "      <td>482.400000</td>\n",
       "    </tr>\n",
       "    <tr>\n",
       "      <th>9131</th>\n",
       "      <td>TD14365</td>\n",
       "      <td>California</td>\n",
       "      <td>M</td>\n",
       "      <td>8163.89</td>\n",
       "      <td>0.0</td>\n",
       "      <td>85.0</td>\n",
       "      <td>Corporate Auto</td>\n",
       "      <td>Four-Door Car</td>\n",
       "      <td>790.784983</td>\n",
       "    </tr>\n",
       "    <tr>\n",
       "      <th>9133</th>\n",
       "      <td>Y167826</td>\n",
       "      <td>California</td>\n",
       "      <td>M</td>\n",
       "      <td>2611.84</td>\n",
       "      <td>0.0</td>\n",
       "      <td>77.0</td>\n",
       "      <td>Corporate Auto</td>\n",
       "      <td>Two-Door Car</td>\n",
       "      <td>369.600000</td>\n",
       "    </tr>\n",
       "  </tbody>\n",
       "</table>\n",
       "<p>2294 rows × 9 columns</p>\n",
       "</div>"
      ],
      "text/plain": [
       "     customer id       state gender  customer lifetime value  income  \\\n",
       "0        RB50392  Washington    NaN                      NaN     0.0   \n",
       "1        QZ44356     Arizona      F                697953.59     0.0   \n",
       "3        WW63253  California      M                764586.18     0.0   \n",
       "7        CF85061     Arizona      M                721610.03     0.0   \n",
       "10       SX51350  California      M                473899.20     0.0   \n",
       "...          ...         ...    ...                      ...     ...   \n",
       "9123     WZ45103  California      F                  5678.05     0.0   \n",
       "9125     RX91025  California      M                 19872.26     0.0   \n",
       "9126     AC13887  California      M                  4629.00     0.0   \n",
       "9131     TD14365  California      M                  8163.89     0.0   \n",
       "9133     Y167826  California      M                  2611.84     0.0   \n",
       "\n",
       "      monthly premium auto     policy type  vehicle class  total claim amount  \n",
       "0                   1000.0   Personal Auto  Four-Door Car            2.704934  \n",
       "1                     94.0   Personal Auto  Four-Door Car         1131.464935  \n",
       "3                    106.0  Corporate Auto            SUV          529.881344  \n",
       "7                    101.0  Corporate Auto  Four-Door Car          363.029680  \n",
       "10                    67.0   Personal Auto  Four-Door Car          482.400000  \n",
       "...                    ...             ...            ...                 ...  \n",
       "9123                  76.0   Personal Auto  Four-Door Car          364.800000  \n",
       "9125                 185.0   Personal Auto            SUV         1950.725547  \n",
       "9126                  67.0  Corporate Auto   Two-Door Car          482.400000  \n",
       "9131                  85.0  Corporate Auto  Four-Door Car          790.784983  \n",
       "9133                  77.0  Corporate Auto   Two-Door Car          369.600000  \n",
       "\n",
       "[2294 rows x 9 columns]"
      ]
     },
     "execution_count": 26,
     "metadata": {},
     "output_type": "execute_result"
    }
   ],
   "source": [
    "# 9.4 Filter out the data for customers who have an income of 0 or less.\n",
    "\n",
    "file[file['income']==0]"
   ]
  },
  {
   "cell_type": "code",
   "execution_count": 27,
   "id": "a8db3fec",
   "metadata": {},
   "outputs": [
    {
     "name": "stdout",
     "output_type": "stream",
     "text": [
      "customer id   0\n",
      "state   0\n",
      "gender   122\n",
      "customer lifetime value   7\n",
      "income   0\n",
      "monthly premium auto   0\n",
      "policy type   0\n",
      "vehicle class   0\n",
      "total claim amount   0\n"
     ]
    }
   ],
   "source": [
    "# Check remaining NaN for all columns\n",
    "for column in file.columns:\n",
    "    print(column,\" \",file[column].isna().sum())"
   ]
  },
  {
   "cell_type": "code",
   "execution_count": 28,
   "id": "450cd8b5",
   "metadata": {},
   "outputs": [],
   "source": [
    "# Since there are 6 results containing null values for 'customer lifetime value', we can choose to put a mean value for this column.\n",
    "file['customer lifetime value'] = file['customer lifetime value'].fillna(file['customer lifetime value'].mean())"
   ]
  },
  {
   "cell_type": "code",
   "execution_count": 29,
   "id": "c527d429",
   "metadata": {},
   "outputs": [],
   "source": [
    "# Fill the top most occuring value in gender column for NaN\n",
    "file['gender'] = file['gender'].fillna(pd.DataFrame(file['gender'].value_counts(dropna=False)).reset_index().iloc[0]['index'])"
   ]
  },
  {
   "cell_type": "code",
   "execution_count": 30,
   "id": "65a6b513",
   "metadata": {},
   "outputs": [],
   "source": [
    "file.to_csv('lab-customer-analysis-round-1_cleaned.csv', index=False)"
   ]
  }
 ],
 "metadata": {
  "kernelspec": {
   "display_name": "Python 3 (ipykernel)",
   "language": "python",
   "name": "python3"
  },
  "language_info": {
   "codemirror_mode": {
    "name": "ipython",
    "version": 3
   },
   "file_extension": ".py",
   "mimetype": "text/x-python",
   "name": "python",
   "nbconvert_exporter": "python",
   "pygments_lexer": "ipython3",
   "version": "3.9.13"
  }
 },
 "nbformat": 4,
 "nbformat_minor": 5
}
